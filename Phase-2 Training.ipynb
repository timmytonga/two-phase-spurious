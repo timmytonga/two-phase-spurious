{
 "cells": [
  {
   "cell_type": "markdown",
   "id": "aeb1322a",
   "metadata": {},
   "source": [
    "## Import and set args"
   ]
  },
  {
   "cell_type": "code",
   "execution_count": 1,
   "id": "cb5ab86d",
   "metadata": {},
   "outputs": [
    {
     "name": "stdout",
     "output_type": "stream",
     "text": [
      "Using cuda device\n",
      "Resnet width: 16\n",
      "Model path: log_w16_seed0/last_model_50.pth\n",
      "Lr: 0.001\n",
      "Weight decay: 1e-06\n",
      "Sampling method: reweight\n",
      "N epochs: 25\n",
      "Log dir: ./phase2_log\n",
      "Seed: 0\n",
      "\n",
      "WARNING: USER HAVE SET SEED i.e. USES CUDA DETERMINISTIC MACHINE --> THIS SLOWS DOWN TRAINING DRAMATICALLY!\n"
     ]
    }
   ],
   "source": [
    "import numpy as np\n",
    "import matplotlib.pyplot as plt\n",
    "import torchvision\n",
    "from data.data import prepare_data\n",
    "from collections import namedtuple\n",
    "from utils import set_seed, Logger, CSVBatchLogger, log_args, add_args\n",
    "import argparse\n",
    "import os\n",
    "import pandas as pd\n",
    "import torch\n",
    "from tqdm.auto import tqdm\n",
    "from pprint import pprint\n",
    "\n",
    "sampling_methods = ['subsample', 'reweight']\n",
    "device = 'cuda' if torch.cuda.is_available() else 'cpu'\n",
    "print('Using {} device'.format(device))\n",
    "\n",
    "parser = argparse.ArgumentParser()\n",
    "parser.add_argument('--resnet_width', type=int, default=None)\n",
    "parser.add_argument('--model_path', type=str)\n",
    "parser.add_argument('--lr', type=float, default='1e-3')\n",
    "parser.add_argument('--weight_decay', type=float, default='1e-6')\n",
    "parser.add_argument('--sampling_method', choices=sampling_methods, default=None)\n",
    "parser.add_argument('--n_epochs', type=int, default=25)\n",
    "parser.add_argument('--log_dir', type=str, default='./phase2_log')\n",
    "parser.add_argument('--seed', type=int, default=0)\n",
    "\n",
    "\n",
    "\n",
    "# '--dataset', 'CelebA', '-s', 'confounder', '-t', 'Blond_Hair', '-c', 'Male', '--log_dir', 'twophaselog_w32', '--seed', '0', \n",
    "toparse = ['--resnet_width', '16',\n",
    "          '--model_path', 'log_w16_seed0/last_model_50.pth',\n",
    "          '--sampling_method', 'reweight']\n",
    "args = parser.parse_args(toparse)\n",
    "\n",
    "# setup logging\n",
    "mode = 'w'\n",
    "if not os.path.exists(args.log_dir):\n",
    "    os.makedirs(args.log_dir)\n",
    "logger = Logger(os.path.join(args.log_dir, 'log.txt'), mode)\n",
    "# Record args\n",
    "log_args(args, logger)\n",
    "set_seed(args.seed)"
   ]
  },
  {
   "cell_type": "markdown",
   "id": "1052b339",
   "metadata": {},
   "source": [
    "## Loads data\n",
    "This is where we adjust the sampling strategy. "
   ]
  },
  {
   "cell_type": "code",
   "execution_count": 2,
   "id": "7895b45f",
   "metadata": {},
   "outputs": [],
   "source": [
    "from data.celebA_dataset import CelebADataset\n",
    "from models import model_attributes\n",
    "from data.dro_dataset import DRODataset\n",
    "\n",
    "    \n",
    "root_dir = '/home/thiennguyen/research/datasets/celebA/'  # dir that contains data\n",
    "target_name= 'Blond_Hair'  # we are classifying whether the input image is blond or not\n",
    "confounder_names= ['Male']  # we aim to avoid learning spurious features... here it's the gender\n",
    "model_type= 'resnet10vw'  # what model we are using to process --> this is to determine the input size to rescale the image\n",
    "augment_data= False\n",
    "fraction=1.0\n",
    "splits = ['train', 'val', 'test']\n",
    "n_classes = 4\n",
    "\n",
    "full_dataset = CelebADataset(root_dir=root_dir,\n",
    "        target_name=target_name,\n",
    "        confounder_names=confounder_names,\n",
    "        model_type=model_type,  # this string is to get the model's input size (for resizing) and input type (image or precomputed)\n",
    "        augment_data=augment_data)  # augment data adds random resized crop and random flip.\n",
    "\n",
    "subsets = full_dataset.get_splits(       # basically return the Subsets object with the appropriate indices for train/val/test\n",
    "        splits,                          # also implements subsampling --> just remove random indices of the appropriate groups in train\n",
    "        train_frac=fraction,   # fraction means how much of the train data to use --> randomly remove if less than 1\n",
    "        subsample_to_minority=(args.sampling_method == 'subsample'))\n",
    "\n",
    "dro_subsets = [  \n",
    "    DRODataset(\n",
    "        subsets[split],  # process each subset separately --> applying the transform parameter.\n",
    "        process_item_fn=None,\n",
    "        n_groups=full_dataset.n_groups,\n",
    "        n_classes=full_dataset.n_classes,\n",
    "        group_str_fn=full_dataset.group_str) \\\n",
    "    for split in splits]\n",
    "\n",
    "train_data, val_data, test_data = dro_subsets\n",
    "train_loader = train_data.get_loader(train=True, reweight_groups=(args.sampling_method == 'reweight'), batch_size=128)\n",
    "val_loader = val_data.get_loader(train=False, reweight_groups=None, batch_size=5)\n",
    "test_loader = test_data.get_loader(train=False, reweight_groups=None, batch_size=128)"
   ]
  },
  {
   "cell_type": "markdown",
   "id": "4f441dce",
   "metadata": {},
   "source": [
    "## Loads Models "
   ]
  },
  {
   "cell_type": "code",
   "execution_count": 5,
   "id": "8c68df00",
   "metadata": {},
   "outputs": [],
   "source": [
    "from variable_width_resnet import resnet10vw\n",
    "\n",
    "# load saved model\n",
    "model = resnet10vw(args.resnet_width, num_classes=n_classes)\n",
    "# model.load_state_dict(torch.load(args.model_path))\n",
    "model.to(device)\n",
    "\n",
    "# freeze everything except the last layer\n",
    "for name, param in model.named_parameters():\n",
    "    if name not in ['fc.weight', 'fc.bias']:\n",
    "        param.requires_grad = False\n",
    "\n",
    "# make sure that really worked\n",
    "parameters = list(filter(lambda p: p.requires_grad, model.parameters()))\n",
    "assert len(parameters) == 2  # fc.weight, fc.bias\n",
    "\n",
    "\n",
    "# initialize the criterion and optimizer\n",
    "criterion = torch.nn.CrossEntropyLoss().to(device)\n",
    "optimizer = torch.optim.SGD(\n",
    "            filter(lambda p: p.requires_grad, model.parameters()),\n",
    "            lr=args.lr,\n",
    "            momentum=0.9,\n",
    "            weight_decay=args.weight_decay)"
   ]
  },
  {
   "cell_type": "code",
   "execution_count": 21,
   "id": "f4345bba",
   "metadata": {
    "scrolled": true
   },
   "outputs": [],
   "source": [
    "from variable_width_resnet import resnet10vw\n",
    "\n",
    "model = resnet10vw(16, num_classes=4)\n",
    "model2 = resnet10vw(16, num_classes=2)\n",
    "\n",
    "model.to(device)\n",
    "model2.to(device)\n",
    "\n",
    "criteriontest = torch.nn.CrossEntropyLoss(reduction='none')"
   ]
  },
  {
   "cell_type": "code",
   "execution_count": 22,
   "id": "c189d70d",
   "metadata": {},
   "outputs": [],
   "source": [
    "\n",
    "\n",
    "def pnorm(weights, p):\n",
    "    normB = torch.norm(weights, 2, 1)\n",
    "    ws = weights.clone()\n",
    "    for i in range(weights.size(0)):\n",
    "        ws[i] = ws[i] / torch.pow(normB[i], p)\n",
    "    return ws\n",
    "\n",
    "\n",
    "for batch_idx, batch in enumerate((val_loader)):\n",
    "    batch = tuple(t.to(device) for t in batch)\n",
    "    x,y,g = batch\n",
    "    outputs4 = model(x)\n",
    "    outputs2 = model2(x)\n",
    "    loss4 = criteriontest(outputs4, g)\n",
    "    loss2 = criteriontest(outputs2, y)\n",
    "    break\n",
    "    "
   ]
  },
  {
   "cell_type": "code",
   "execution_count": 23,
   "id": "fee3c6f1",
   "metadata": {
    "scrolled": false
   },
   "outputs": [],
   "source": [
    "group_idx = g \n",
    "n_groups = 4\n",
    "losses = loss2\n",
    "\n",
    "group_map = (group_idx == torch.arange(n_groups).unsqueeze(1).long().cuda()).float()\n",
    "group_count = group_map.sum(1)\n",
    "group_denom = group_count + (group_count==0).float() # avoid nans\n",
    "\n",
    "group_loss = (group_map @ losses.view(-1))/group_denom\n",
    "group_loss4 = (group_map @ loss4.view(-1))/group_denom"
   ]
  },
  {
   "cell_type": "code",
   "execution_count": 35,
   "id": "7b388680",
   "metadata": {},
   "outputs": [
    {
     "name": "stdout",
     "output_type": "stream",
     "text": [
      "tensor(1.0032, device='cuda:0', grad_fn=<SumBackward0>)\n",
      "tensor(1.0069, device='cuda:0', grad_fn=<SumBackward0>)\n",
      "tensor([0.2507, 0.2509, 0.2492, 0.2492], device='cuda:0',\n",
      "       grad_fn=<DivBackward0>)\n",
      "tensor([0.2518, 0.2517, 0.2483, 0.2483], device='cuda:0',\n",
      "       grad_fn=<DivBackward0>)\n"
     ]
    }
   ],
   "source": [
    "step_size = 0.01\n",
    "\n",
    "adv_probs2 = torch.ones(n_groups).cuda()/n_groups\n",
    "adv_probs4 = torch.ones(n_groups).cuda()/n_groups\n",
    "\n",
    "adv_probs2 = adv_probs2 * torch.exp(step_size*group_loss)\n",
    "print(adv_probs2.sum())\n",
    "adv_probs2 = adv_probs2/adv_probs2.sum()\n",
    "\n",
    "adv_probs4 = adv_probs4 * torch.exp(step_size*group_loss4)\n",
    "print(adv_probs4.sum())\n",
    "adv_probs4 = adv_probs4/adv_probs4.sum()\n",
    "\n",
    "print(adv_probs2)\n",
    "\n",
    "print(adv_probs4)"
   ]
  },
  {
   "cell_type": "code",
   "execution_count": 25,
   "id": "b50ef95a",
   "metadata": {},
   "outputs": [
    {
     "name": "stdout",
     "output_type": "stream",
     "text": [
      "x: torch.Size([5, 3, 224, 224])\n",
      "y: tensor([0, 0, 0, 0, 0], device='cuda:0')\n",
      "g: tensor([0, 1, 0, 1, 0], device='cuda:0')\n",
      "group_map\n",
      " tensor([[1., 0., 1., 0., 1.],\n",
      "        [0., 1., 0., 1., 0.],\n",
      "        [0., 0., 0., 0., 0.],\n",
      "        [0., 0., 0., 0., 0.]], device='cuda:0')\n",
      "group_count\n",
      "tensor([3., 2., 0., 0.], device='cuda:0')\n",
      "group_denom\n",
      "tensor([3., 2., 1., 1.], device='cuda:0')\n",
      "loss2\n",
      "tensor([0.6003, 0.6972, 0.6142, 0.6508, 0.6186], device='cuda:0',\n",
      "       grad_fn=<NllLossBackward>)\n",
      "group_loss2\n",
      "tensor([0.6110, 0.6740, 0.0000, 0.0000], device='cuda:0',\n",
      "       grad_fn=<DivBackward0>)\n",
      "loss4\n",
      "tensor([1.3283, 1.2866, 1.3695, 1.4120, 1.5109], device='cuda:0',\n",
      "       grad_fn=<NllLossBackward>)\n",
      "group_loss4\n",
      "tensor([1.4029, 1.3493, 0.0000, 0.0000], device='cuda:0',\n",
      "       grad_fn=<DivBackward0>)\n"
     ]
    }
   ],
   "source": [
    "print(f'x: {x.shape}\\ny: {y}\\ng: {g}')\n",
    "print('group_map\\n',group_map)\n",
    "print(f'group_count\\n{group_count}')\n",
    "print(f'group_denom\\n{group_denom}')\n",
    "print(f'loss2\\n{loss2}')\n",
    "print(f'group_loss2\\n{group_loss}')\n",
    "\n",
    "print(f'loss4\\n{loss4}')\n",
    "print(f'group_loss4\\n{group_loss4}')\n",
    "\n",
    "\n"
   ]
  },
  {
   "cell_type": "markdown",
   "id": "e49ec826",
   "metadata": {},
   "source": [
    "## Train classifier"
   ]
  },
  {
   "cell_type": "code",
   "execution_count": 4,
   "id": "1b763cef",
   "metadata": {},
   "outputs": [],
   "source": [
    "import csv\n",
    "from pprint import pprint\n",
    "\n",
    "\n",
    "def write_to_writer(writer, content):\n",
    "    writer.writerow(content)\n",
    "    pprint(content)\n",
    "\n",
    "mode = 'w'\n",
    "    \n",
    "train_path = open(os.path.join(args.log_dir, 'train.csv'), mode)\n",
    "val_path = open(os.path.join(args.log_dir, 'val.csv'), mode)\n",
    "test_path = open(os.path.join(args.log_dir, 'test.csv'), mode)\n",
    "\n",
    "train_columns = ['epoch','total_acc', 'group0_acc', 'group1_acc', 'group2_acc', 'group3_acc', 'split_acc', 'loss', 'avg_margin', 'group0_margin', \n",
    "                'group1_margin', 'group2_margin', 'group3_margin']\n",
    "\n",
    "valtest_columns = ['epoch', 'total_acc', 'group0_acc', 'group1_acc', 'group2_acc', 'group3_acc', 'split_acc',\n",
    "                  'avg_margin', 'group0_margin', 'group1_margin', 'group2_margin', 'group3_margin']\n",
    "\n",
    "train_writer = csv.DictWriter(train_path, fieldnames=train_columns)\n",
    "train_writer.writeheader()\n",
    "val_writer = csv.DictWriter(val_path, fieldnames=valtest_columns)\n",
    "val_writer.writeheader()\n",
    "test_writer = csv.DictWriter(test_path, fieldnames=valtest_columns)\n",
    "test_writer.writeheader()\n",
    "\n",
    "\n",
    "def run_epoch(epoch, model, device, optimizer, loader, loss_computer, writer, is_training):\n",
    "    \"\"\"\n",
    "    Train the classifier\n",
    "    \"\"\"\n",
    "    model.train() if is_training else model.eval()\n",
    "    \n",
    "    running_loss, total_margin = 0, 0   # keep track of avg loss, margin in train\n",
    "    l_correct, g_correct, total = 0, 0, 0  # for validation\n",
    "    group_track = {f'g{i}':{'correct':0, 'total':0, 'margin': 0} for i in range(4)}  # keeps track of counts of #correct, #total for each group g0-g4\n",
    "    log_train_every = 200    \n",
    "    \n",
    "    with (torch.enable_grad() if is_training else torch.no_grad()):\n",
    "        for batch_idx, batch in enumerate(tqdm(loader)):\n",
    "            batch = tuple(t.to(device) for t in batch)\n",
    "            x,y,g = batch\n",
    "            outputs = model(x)\n",
    "            \n",
    "            if is_training:\n",
    "                optimizer.zero_grad()\n",
    "                loss = loss_computer(outputs, g)  # we are classifying groups\n",
    "                loss.backward()\n",
    "                optimizer.step()\n",
    "                # print statistics\n",
    "                running_loss += loss.item()\n",
    "                if (batch_idx % log_train_every) == log_train_every -1:    # print every 200 mini-batches\n",
    "                    print('[%d, %5d] loss: %.3f, avg_margin: %.3f' %\n",
    "                          (epoch, batch_idx + 1, running_loss / log_train_every, total_margin/total))\n",
    "                    running_loss = 0.0\n",
    "            \n",
    "            # extra validation\n",
    "            with torch.no_grad():\n",
    "                # accuracies and margins\n",
    "                total += g.size(0)  # total\n",
    "                _, predicted = torch.max(outputs.data, 1)  # get predictions\n",
    "                maskg = torch.zeros((len(g), 4), dtype=bool, device=device)\n",
    "                maskg[np.arange(len(g)),g] = 1\n",
    "                margins = outputs[maskg]-torch.max(outputs*(~maskg),dim=1)[0]\n",
    "                total_margin += margins.sum().item()\n",
    "                for g_idx in range(4):\n",
    "                    group_track[f'g{g_idx}']['correct'] += ((predicted == g)[g==g_idx]).sum().item()  # correctly predict\n",
    "                    group_track[f'g{g_idx}']['total'] += (g==g_idx).sum().item()  # total number of group's instance encountered\n",
    "                    group_track[f'g{g_idx}']['margin'] += margins[g==g_idx].sum().item()\n",
    "                g_correct += (predicted == g).sum().item()\n",
    "                l_correct += (predicted//2 == y).sum().item()\n",
    "\n",
    "        # write stats in dict and csv\n",
    "        stats_dict = {'epoch':epoch, 'total_acc':f\"{l_correct/total:.4f}\", 'split_acc':f'{g_correct/total:.4f}', 'avg_margin': f\"{total_margin/total:.4f}\"}\n",
    "        for g in range(4):\n",
    "            stats_dict[f'group{g}_acc'] = f\"{group_track[f'g{g}']['correct']/group_track[f'g{g}']['total']:.4f}\"\n",
    "            stats_dict[f'group{g}_margin'] = f\"{group_track[f'g{g}']['margin']/group_track[f'g{g}']['total']:.4f}\"\n",
    "        if is_training:\n",
    "            stats_dict['loss'] = f'{running_loss/log_train_every:.4f}'\n",
    "            \n",
    "        write_to_writer(writer, stats_dict)"
   ]
  },
  {
   "cell_type": "code",
   "execution_count": 5,
   "id": "6bea185c",
   "metadata": {},
   "outputs": [
    {
     "name": "stdout",
     "output_type": "stream",
     "text": [
      "Train epoch 0\n"
     ]
    },
    {
     "data": {
      "application/vnd.jupyter.widget-view+json": {
       "model_id": "0de050b0da1b460ab20cdbc90d68293f",
       "version_major": 2,
       "version_minor": 0
      },
      "text/plain": [
       "HBox(children=(IntProgress(value=0, max=1272), HTML(value='')))"
      ]
     },
     "metadata": {},
     "output_type": "display_data"
    },
    {
     "name": "stdout",
     "output_type": "stream",
     "text": [
      "[1,   200] loss: 0.280, avg_margin: 3.858\n",
      "[1,   400] loss: 0.188, avg_margin: 3.879\n",
      "[1,   600] loss: 0.189, avg_margin: 3.886\n",
      "[1,   800] loss: 0.184, avg_margin: 3.898\n",
      "[1,  1000] loss: 0.181, avg_margin: 3.908\n",
      "[1,  1200] loss: 0.187, avg_margin: 3.914\n",
      "\n",
      "{'avg_margin': '3.9181',\n",
      " 'epoch': 1,\n",
      " 'group0_acc': '0.9403',\n",
      " 'group0_margin': '5.0920',\n",
      " 'group1_acc': '0.9267',\n",
      " 'group1_margin': '3.2736',\n",
      " 'group2_acc': '0.9397',\n",
      " 'group2_margin': '4.6347',\n",
      " 'group3_acc': '0.8971',\n",
      " 'group3_margin': '2.6794',\n",
      " 'loss': '0.0651',\n",
      " 'split_acc': '0.9259',\n",
      " 'total_acc': '0.9342'}\n",
      "Validate epoch 0\n"
     ]
    },
    {
     "data": {
      "application/vnd.jupyter.widget-view+json": {
       "model_id": "291379614a6b455fa54da51f6d34b229",
       "version_major": 2,
       "version_minor": 0
      },
      "text/plain": [
       "HBox(children=(IntProgress(value=0, max=156), HTML(value='')))"
      ]
     },
     "metadata": {},
     "output_type": "display_data"
    },
    {
     "name": "stdout",
     "output_type": "stream",
     "text": [
      "\n",
      "{'avg_margin': '3.9809',\n",
      " 'epoch': 1,\n",
      " 'group0_acc': '0.8901',\n",
      " 'group0_margin': '4.7389',\n",
      " 'group1_acc': '0.9033',\n",
      " 'group1_margin': '3.1593',\n",
      " 'group2_acc': '0.8744',\n",
      " 'group2_margin': '4.2288',\n",
      " 'group3_acc': '0.7637',\n",
      " 'group3_margin': '1.8769',\n",
      " 'split_acc': '0.8922',\n",
      " 'total_acc': '0.9161'}\n",
      "Train epoch 1\n"
     ]
    },
    {
     "data": {
      "application/vnd.jupyter.widget-view+json": {
       "model_id": "497edf9b5c0a4bb6925ea59d929c3a83",
       "version_major": 2,
       "version_minor": 0
      },
      "text/plain": [
       "HBox(children=(IntProgress(value=0, max=1272), HTML(value='')))"
      ]
     },
     "metadata": {},
     "output_type": "display_data"
    },
    {
     "name": "stdout",
     "output_type": "stream",
     "text": [
      "[2,   200] loss: 0.183, avg_margin: 3.970\n",
      "[2,   400] loss: 0.184, avg_margin: 3.985\n",
      "[2,   600] loss: 0.184, avg_margin: 3.985\n",
      "[2,   800] loss: 0.185, avg_margin: 3.987\n",
      "[2,  1000] loss: 0.184, avg_margin: 3.994\n",
      "[2,  1200] loss: 0.182, avg_margin: 4.002\n",
      "\n",
      "{'avg_margin': '4.0036',\n",
      " 'epoch': 2,\n",
      " 'group0_acc': '0.9373',\n",
      " 'group0_margin': '5.0494',\n",
      " 'group1_acc': '0.9268',\n",
      " 'group1_margin': '3.3377',\n",
      " 'group2_acc': '0.9487',\n",
      " 'group2_margin': '4.7137',\n",
      " 'group3_acc': '0.9179',\n",
      " 'group3_margin': '2.9146',\n",
      " 'loss': '0.0670',\n",
      " 'split_acc': '0.9327',\n",
      " 'total_acc': '0.9406'}\n",
      "Validate epoch 1\n"
     ]
    },
    {
     "data": {
      "application/vnd.jupyter.widget-view+json": {
       "model_id": "e4803a7d4cbf42d1b69cbe3bd83cd8fb",
       "version_major": 2,
       "version_minor": 0
      },
      "text/plain": [
       "HBox(children=(IntProgress(value=0, max=156), HTML(value='')))"
      ]
     },
     "metadata": {},
     "output_type": "display_data"
    },
    {
     "name": "stdout",
     "output_type": "stream",
     "text": [
      "\n",
      "{'avg_margin': '4.1527',\n",
      " 'epoch': 2,\n",
      " 'group0_acc': '0.8887',\n",
      " 'group0_margin': '4.8049',\n",
      " 'group1_acc': '0.9083',\n",
      " 'group1_margin': '3.4658',\n",
      " 'group2_acc': '0.8824',\n",
      " 'group2_margin': '4.3447',\n",
      " 'group3_acc': '0.7582',\n",
      " 'group3_margin': '1.7690',\n",
      " 'split_acc': '0.8948',\n",
      " 'total_acc': '0.9191'}\n",
      "Train epoch 2\n"
     ]
    },
    {
     "data": {
      "application/vnd.jupyter.widget-view+json": {
       "model_id": "8cc37a06c54143a18b4065329180c350",
       "version_major": 2,
       "version_minor": 0
      },
      "text/plain": [
       "HBox(children=(IntProgress(value=0, max=1272), HTML(value='')))"
      ]
     },
     "metadata": {},
     "output_type": "display_data"
    },
    {
     "name": "stdout",
     "output_type": "stream",
     "text": [
      "[3,   200] loss: 0.186, avg_margin: 4.043\n",
      "[3,   400] loss: 0.191, avg_margin: 4.038\n",
      "[3,   600] loss: 0.177, avg_margin: 4.047\n",
      "[3,   800] loss: 0.184, avg_margin: 4.046\n",
      "[3,  1000] loss: 0.178, avg_margin: 4.059\n",
      "[3,  1200] loss: 0.183, avg_margin: 4.061\n",
      "\n",
      "{'avg_margin': '4.0636',\n",
      " 'epoch': 3,\n",
      " 'group0_acc': '0.9381',\n",
      " 'group0_margin': '5.1213',\n",
      " 'group1_acc': '0.9263',\n",
      " 'group1_margin': '3.4337',\n",
      " 'group2_acc': '0.9487',\n",
      " 'group2_margin': '4.7191',\n",
      " 'group3_acc': '0.9171',\n",
      " 'group3_margin': '2.9812',\n",
      " 'loss': '0.0652',\n",
      " 'split_acc': '0.9325',\n",
      " 'total_acc': '0.9408'}\n",
      "Validate epoch 2\n"
     ]
    },
    {
     "data": {
      "application/vnd.jupyter.widget-view+json": {
       "model_id": "f0985bfecb2c4e4d8b60a6fddd7743bf",
       "version_major": 2,
       "version_minor": 0
      },
      "text/plain": [
       "HBox(children=(IntProgress(value=0, max=156), HTML(value='')))"
      ]
     },
     "metadata": {},
     "output_type": "display_data"
    },
    {
     "name": "stdout",
     "output_type": "stream",
     "text": [
      "\n",
      "{'avg_margin': '4.0803',\n",
      " 'epoch': 3,\n",
      " 'group0_acc': '0.8799',\n",
      " 'group0_margin': '4.5705',\n",
      " 'group1_acc': '0.9147',\n",
      " 'group1_margin': '3.5347',\n",
      " 'group2_acc': '0.8834',\n",
      " 'group2_margin': '4.3323',\n",
      " 'group3_acc': '0.7857',\n",
      " 'group3_margin': '1.9229',\n",
      " 'split_acc': '0.8940',\n",
      " 'total_acc': '0.9178'}\n",
      "Train epoch 3\n"
     ]
    },
    {
     "data": {
      "application/vnd.jupyter.widget-view+json": {
       "model_id": "819b602f54a34b099e4234279ac1d4c5",
       "version_major": 2,
       "version_minor": 0
      },
      "text/plain": [
       "HBox(children=(IntProgress(value=0, max=1272), HTML(value='')))"
      ]
     },
     "metadata": {},
     "output_type": "display_data"
    },
    {
     "name": "stdout",
     "output_type": "stream",
     "text": [
      "[4,   200] loss: 0.186, avg_margin: 4.097\n",
      "[4,   400] loss: 0.180, avg_margin: 4.096\n",
      "[4,   600] loss: 0.178, avg_margin: 4.109\n",
      "[4,   800] loss: 0.183, avg_margin: 4.109\n",
      "[4,  1000] loss: 0.179, avg_margin: 4.115\n",
      "[4,  1200] loss: 0.183, avg_margin: 4.119\n",
      "\n",
      "{'avg_margin': '4.1186',\n",
      " 'epoch': 4,\n",
      " 'group0_acc': '0.9376',\n",
      " 'group0_margin': '5.1717',\n",
      " 'group1_acc': '0.9246',\n",
      " 'group1_margin': '3.5187',\n",
      " 'group2_acc': '0.9487',\n",
      " 'group2_margin': '4.7441',\n",
      " 'group3_acc': '0.9183',\n",
      " 'group3_margin': '3.0291',\n",
      " 'loss': '0.0676',\n",
      " 'split_acc': '0.9323',\n",
      " 'total_acc': '0.9406'}\n",
      "Validate epoch 3\n"
     ]
    },
    {
     "data": {
      "application/vnd.jupyter.widget-view+json": {
       "model_id": "278b300d597142a7b08b9a228df89679",
       "version_major": 2,
       "version_minor": 0
      },
      "text/plain": [
       "HBox(children=(IntProgress(value=0, max=156), HTML(value='')))"
      ]
     },
     "metadata": {},
     "output_type": "display_data"
    },
    {
     "name": "stdout",
     "output_type": "stream",
     "text": [
      "\n",
      "{'avg_margin': '4.1790',\n",
      " 'epoch': 4,\n",
      " 'group0_acc': '0.8847',\n",
      " 'group0_margin': '4.7823',\n",
      " 'group1_acc': '0.9099',\n",
      " 'group1_margin': '3.5499',\n",
      " 'group2_acc': '0.8803',\n",
      " 'group2_margin': '4.3405',\n",
      " 'group3_acc': '0.7747',\n",
      " 'group3_margin': '1.9472',\n",
      " 'split_acc': '0.8935',\n",
      " 'total_acc': '0.9176'}\n",
      "Train epoch 4\n"
     ]
    },
    {
     "data": {
      "application/vnd.jupyter.widget-view+json": {
       "model_id": "f5faffd85c2f4717b82a80f7b1e09e56",
       "version_major": 2,
       "version_minor": 0
      },
      "text/plain": [
       "HBox(children=(IntProgress(value=0, max=1272), HTML(value='')))"
      ]
     },
     "metadata": {},
     "output_type": "display_data"
    },
    {
     "name": "stdout",
     "output_type": "stream",
     "text": [
      "[5,   200] loss: 0.180, avg_margin: 4.156\n",
      "[5,   400] loss: 0.175, avg_margin: 4.169\n",
      "[5,   600] loss: 0.179, avg_margin: 4.168\n",
      "[5,   800] loss: 0.181, avg_margin: 4.164\n",
      "[5,  1000] loss: 0.181, avg_margin: 4.164\n",
      "[5,  1200] loss: 0.181, avg_margin: 4.164\n",
      "\n",
      "{'avg_margin': '4.1672',\n",
      " 'epoch': 5,\n",
      " 'group0_acc': '0.9386',\n",
      " 'group0_margin': '5.2655',\n",
      " 'group1_acc': '0.9249',\n",
      " 'group1_margin': '3.5399',\n",
      " 'group2_acc': '0.9516',\n",
      " 'group2_margin': '4.7918',\n",
      " 'group3_acc': '0.9206',\n",
      " 'group3_margin': '3.0715',\n",
      " 'loss': '0.0634',\n",
      " 'split_acc': '0.9339',\n",
      " 'total_acc': '0.9422'}\n",
      "Validate epoch 4\n"
     ]
    },
    {
     "data": {
      "application/vnd.jupyter.widget-view+json": {
       "model_id": "9eda2079c3254c5184a9c593cf76b5af",
       "version_major": 2,
       "version_minor": 0
      },
      "text/plain": [
       "HBox(children=(IntProgress(value=0, max=156), HTML(value='')))"
      ]
     },
     "metadata": {},
     "output_type": "display_data"
    },
    {
     "name": "stdout",
     "output_type": "stream",
     "text": [
      "\n",
      "{'avg_margin': '4.2267',\n",
      " 'epoch': 5,\n",
      " 'group0_acc': '0.8845',\n",
      " 'group0_margin': '4.8250',\n",
      " 'group1_acc': '0.9085',\n",
      " 'group1_margin': '3.6009',\n",
      " 'group2_acc': '0.8838',\n",
      " 'group2_margin': '4.3947',\n",
      " 'group3_acc': '0.7692',\n",
      " 'group3_margin': '1.9808',\n",
      " 'split_acc': '0.8933',\n",
      " 'total_acc': '0.9171'}\n",
      "Train epoch 5\n"
     ]
    },
    {
     "data": {
      "application/vnd.jupyter.widget-view+json": {
       "model_id": "58960dd02c444c06b98782ae4c1c0c58",
       "version_major": 2,
       "version_minor": 0
      },
      "text/plain": [
       "HBox(children=(IntProgress(value=0, max=1272), HTML(value='')))"
      ]
     },
     "metadata": {},
     "output_type": "display_data"
    },
    {
     "name": "stdout",
     "output_type": "stream",
     "text": [
      "[6,   200] loss: 0.180, avg_margin: 4.201\n",
      "[6,   400] loss: 0.176, avg_margin: 4.205\n",
      "[6,   600] loss: 0.177, avg_margin: 4.205\n",
      "[6,   800] loss: 0.182, avg_margin: 4.204\n",
      "[6,  1000] loss: 0.183, avg_margin: 4.205\n",
      "[6,  1200] loss: 0.180, avg_margin: 4.205\n",
      "\n",
      "{'avg_margin': '4.2015',\n",
      " 'epoch': 6,\n",
      " 'group0_acc': '0.9375',\n",
      " 'group0_margin': '5.2808',\n",
      " 'group1_acc': '0.9279',\n",
      " 'group1_margin': '3.6077',\n",
      " 'group2_acc': '0.9493',\n",
      " 'group2_margin': '4.8247',\n",
      " 'group3_acc': '0.9189',\n",
      " 'group3_margin': '3.0929',\n",
      " 'loss': '0.0658',\n",
      " 'split_acc': '0.9334',\n",
      " 'total_acc': '0.9416'}\n",
      "Validate epoch 5\n"
     ]
    },
    {
     "data": {
      "application/vnd.jupyter.widget-view+json": {
       "model_id": "eacae7f137ed4f709ac9572b6c5ab412",
       "version_major": 2,
       "version_minor": 0
      },
      "text/plain": [
       "HBox(children=(IntProgress(value=0, max=156), HTML(value='')))"
      ]
     },
     "metadata": {},
     "output_type": "display_data"
    },
    {
     "name": "stdout",
     "output_type": "stream",
     "text": [
      "\n",
      "{'avg_margin': '4.2416',\n",
      " 'epoch': 6,\n",
      " 'group0_acc': '0.8873',\n",
      " 'group0_margin': '4.8903',\n",
      " 'group1_acc': '0.9068',\n",
      " 'group1_margin': '3.5655',\n",
      " 'group2_acc': '0.8803',\n",
      " 'group2_margin': '4.4042',\n",
      " 'group3_acc': '0.7747',\n",
      " 'group3_margin': '1.9988',\n",
      " 'split_acc': '0.8934',\n",
      " 'total_acc': '0.9171'}\n",
      "Train epoch 6\n"
     ]
    },
    {
     "data": {
      "application/vnd.jupyter.widget-view+json": {
       "model_id": "42d0ed176753467b9e88d9b89990bd8a",
       "version_major": 2,
       "version_minor": 0
      },
      "text/plain": [
       "HBox(children=(IntProgress(value=0, max=1272), HTML(value='')))"
      ]
     },
     "metadata": {},
     "output_type": "display_data"
    },
    {
     "name": "stdout",
     "output_type": "stream",
     "text": [
      "[7,   200] loss: 0.180, avg_margin: 4.210\n",
      "[7,   400] loss: 0.183, avg_margin: 4.203\n",
      "[7,   600] loss: 0.178, avg_margin: 4.206\n",
      "[7,   800] loss: 0.175, avg_margin: 4.221\n",
      "[7,  1000] loss: 0.179, avg_margin: 4.227\n",
      "[7,  1200] loss: 0.180, avg_margin: 4.227\n",
      "\n",
      "{'avg_margin': '4.2285',\n",
      " 'epoch': 7,\n",
      " 'group0_acc': '0.9381',\n",
      " 'group0_margin': '5.2803',\n",
      " 'group1_acc': '0.9250',\n",
      " 'group1_margin': '3.6535',\n",
      " 'group2_acc': '0.9506',\n",
      " 'group2_margin': '4.8480',\n",
      " 'group3_acc': '0.9201',\n",
      " 'group3_margin': '3.1325',\n",
      " 'loss': '0.0642',\n",
      " 'split_acc': '0.9334',\n",
      " 'total_acc': '0.9413'}\n",
      "Validate epoch 6\n"
     ]
    },
    {
     "data": {
      "application/vnd.jupyter.widget-view+json": {
       "model_id": "a1359f03ad9a4edd9fd51327ea1a5755",
       "version_major": 2,
       "version_minor": 0
      },
      "text/plain": [
       "HBox(children=(IntProgress(value=0, max=156), HTML(value='')))"
      ]
     },
     "metadata": {},
     "output_type": "display_data"
    },
    {
     "name": "stdout",
     "output_type": "stream",
     "text": [
      "\n",
      "{'avg_margin': '4.1672',\n",
      " 'epoch': 7,\n",
      " 'group0_acc': '0.8752',\n",
      " 'group0_margin': '4.6443',\n",
      " 'group1_acc': '0.9051',\n",
      " 'group1_margin': '3.5673',\n",
      " 'group2_acc': '0.8907',\n",
      " 'group2_margin': '4.6048',\n",
      " 'group3_acc': '0.8022',\n",
      " 'group3_margin': '2.1592',\n",
      " 'split_acc': '0.8893',\n",
      " 'total_acc': '0.9127'}\n",
      "Train epoch 7\n"
     ]
    },
    {
     "data": {
      "application/vnd.jupyter.widget-view+json": {
       "model_id": "fb467300f6284dbcab362f3501f19d89",
       "version_major": 2,
       "version_minor": 0
      },
      "text/plain": [
       "HBox(children=(IntProgress(value=0, max=1272), HTML(value='')))"
      ]
     },
     "metadata": {},
     "output_type": "display_data"
    },
    {
     "name": "stdout",
     "output_type": "stream",
     "text": [
      "[8,   200] loss: 0.181, avg_margin: 4.235\n",
      "[8,   400] loss: 0.180, avg_margin: 4.246\n",
      "[8,   600] loss: 0.181, avg_margin: 4.242\n",
      "[8,   800] loss: 0.172, avg_margin: 4.254\n",
      "[8,  1000] loss: 0.179, avg_margin: 4.256\n",
      "[8,  1200] loss: 0.177, avg_margin: 4.261\n",
      "\n",
      "{'avg_margin': '4.2639',\n",
      " 'epoch': 8,\n",
      " 'group0_acc': '0.9397',\n",
      " 'group0_margin': '5.3558',\n",
      " 'group1_acc': '0.9260',\n",
      " 'group1_margin': '3.6501',\n",
      " 'group2_acc': '0.9506',\n",
      " 'group2_margin': '4.8915',\n",
      " 'group3_acc': '0.9204',\n",
      " 'group3_margin': '3.1588',\n",
      " 'loss': '0.0618',\n",
      " 'split_acc': '0.9342',\n",
      " 'total_acc': '0.9422'}\n",
      "Validate epoch 7\n"
     ]
    },
    {
     "data": {
      "application/vnd.jupyter.widget-view+json": {
       "model_id": "fd7113ff7f5b4deeac2889e2802a61a2",
       "version_major": 2,
       "version_minor": 0
      },
      "text/plain": [
       "HBox(children=(IntProgress(value=0, max=156), HTML(value='')))"
      ]
     },
     "metadata": {},
     "output_type": "display_data"
    },
    {
     "name": "stdout",
     "output_type": "stream",
     "text": [
      "\n",
      "{'avg_margin': '4.2624',\n",
      " 'epoch': 8,\n",
      " 'group0_acc': '0.8819',\n",
      " 'group0_margin': '4.8391',\n",
      " 'group1_acc': '0.9032',\n",
      " 'group1_margin': '3.5772',\n",
      " 'group2_acc': '0.8921',\n",
      " 'group2_margin': '4.6641',\n",
      " 'group3_acc': '0.7692',\n",
      " 'group3_margin': '2.0349',\n",
      " 'split_acc': '0.8912',\n",
      " 'total_acc': '0.9150'}\n",
      "Train epoch 8\n"
     ]
    },
    {
     "data": {
      "application/vnd.jupyter.widget-view+json": {
       "model_id": "7e4efb934dff4ecf8c3fd93ea9318b5a",
       "version_major": 2,
       "version_minor": 0
      },
      "text/plain": [
       "HBox(children=(IntProgress(value=0, max=1272), HTML(value='')))"
      ]
     },
     "metadata": {},
     "output_type": "display_data"
    },
    {
     "name": "stdout",
     "output_type": "stream",
     "text": [
      "[9,   200] loss: 0.179, avg_margin: 4.263\n",
      "[9,   400] loss: 0.176, avg_margin: 4.267\n",
      "[9,   600] loss: 0.177, avg_margin: 4.277\n",
      "[9,   800] loss: 0.179, avg_margin: 4.275\n",
      "[9,  1000] loss: 0.177, avg_margin: 4.276\n",
      "[9,  1200] loss: 0.173, avg_margin: 4.284\n",
      "\n",
      "{'avg_margin': '4.2828',\n",
      " 'epoch': 9,\n",
      " 'group0_acc': '0.9401',\n",
      " 'group0_margin': '5.3733',\n",
      " 'group1_acc': '0.9253',\n",
      " 'group1_margin': '3.6732',\n",
      " 'group2_acc': '0.9513',\n",
      " 'group2_margin': '4.9217',\n",
      " 'group3_acc': '0.9208',\n",
      " 'group3_margin': '3.1673',\n",
      " 'loss': '0.0658',\n",
      " 'split_acc': '0.9343',\n",
      " 'total_acc': '0.9424'}\n",
      "Validate epoch 8\n"
     ]
    },
    {
     "data": {
      "application/vnd.jupyter.widget-view+json": {
       "model_id": "20054ad7855b4b9f904cc31a74d4c6e6",
       "version_major": 2,
       "version_minor": 0
      },
      "text/plain": [
       "HBox(children=(IntProgress(value=0, max=156), HTML(value='')))"
      ]
     },
     "metadata": {},
     "output_type": "display_data"
    },
    {
     "name": "stdout",
     "output_type": "stream",
     "text": [
      "\n",
      "{'avg_margin': '4.3007',\n",
      " 'epoch': 9,\n",
      " 'group0_acc': '0.8806',\n",
      " 'group0_margin': '4.8726',\n",
      " 'group1_acc': '0.9039',\n",
      " 'group1_margin': '3.6294',\n",
      " 'group2_acc': '0.8914',\n",
      " 'group2_margin': '4.6752',\n",
      " 'group3_acc': '0.7802',\n",
      " 'group3_margin': '2.0989',\n",
      " 'split_acc': '0.8910',\n",
      " 'total_acc': '0.9148'}\n",
      "Train epoch 9\n"
     ]
    },
    {
     "data": {
      "application/vnd.jupyter.widget-view+json": {
       "model_id": "4acb175b0883447db4737948e8150bdd",
       "version_major": 2,
       "version_minor": 0
      },
      "text/plain": [
       "HBox(children=(IntProgress(value=0, max=1272), HTML(value='')))"
      ]
     },
     "metadata": {},
     "output_type": "display_data"
    },
    {
     "name": "stdout",
     "output_type": "stream",
     "text": [
      "[10,   200] loss: 0.180, avg_margin: 4.279\n",
      "[10,   400] loss: 0.179, avg_margin: 4.286\n",
      "[10,   600] loss: 0.178, avg_margin: 4.305\n",
      "[10,   800] loss: 0.177, avg_margin: 4.306\n",
      "[10,  1000] loss: 0.183, avg_margin: 4.303\n",
      "[10,  1200] loss: 0.180, avg_margin: 4.309\n",
      "\n",
      "{'avg_margin': '4.3085',\n",
      " 'epoch': 10,\n",
      " 'group0_acc': '0.9388',\n",
      " 'group0_margin': '5.4176',\n",
      " 'group1_acc': '0.9271',\n",
      " 'group1_margin': '3.7023',\n",
      " 'group2_acc': '0.9498',\n",
      " 'group2_margin': '4.9606',\n",
      " 'group3_acc': '0.9220',\n",
      " 'group3_margin': '3.1704',\n",
      " 'loss': '0.0621',\n",
      " 'split_acc': '0.9344',\n",
      " 'total_acc': '0.9425'}\n",
      "Validate epoch 9\n"
     ]
    },
    {
     "data": {
      "application/vnd.jupyter.widget-view+json": {
       "model_id": "02bf119c874f4c07bbf40f1ad9838100",
       "version_major": 2,
       "version_minor": 0
      },
      "text/plain": [
       "HBox(children=(IntProgress(value=0, max=156), HTML(value='')))"
      ]
     },
     "metadata": {},
     "output_type": "display_data"
    },
    {
     "name": "stdout",
     "output_type": "stream",
     "text": [
      "\n",
      "{'avg_margin': '4.3935',\n",
      " 'epoch': 10,\n",
      " 'group0_acc': '0.8855',\n",
      " 'group0_margin': '4.9804',\n",
      " 'group1_acc': '0.9141',\n",
      " 'group1_margin': '3.8001',\n",
      " 'group2_acc': '0.8820',\n",
      " 'group2_margin': '4.5150',\n",
      " 'group3_acc': '0.7747',\n",
      " 'group3_margin': '1.9369',\n",
      " 'split_acc': '0.8959',\n",
      " 'total_acc': '0.9198'}\n",
      "Train epoch 10\n"
     ]
    },
    {
     "data": {
      "application/vnd.jupyter.widget-view+json": {
       "model_id": "1ac48e2d42d84661a32b644b87bf5663",
       "version_major": 2,
       "version_minor": 0
      },
      "text/plain": [
       "HBox(children=(IntProgress(value=0, max=1272), HTML(value='')))"
      ]
     },
     "metadata": {},
     "output_type": "display_data"
    },
    {
     "name": "stdout",
     "output_type": "stream",
     "text": [
      "[11,   200] loss: 0.175, avg_margin: 4.329\n",
      "[11,   400] loss: 0.181, avg_margin: 4.323\n",
      "[11,   600] loss: 0.180, avg_margin: 4.318\n",
      "[11,   800] loss: 0.179, avg_margin: 4.313\n",
      "[11,  1000] loss: 0.176, avg_margin: 4.313\n",
      "[11,  1200] loss: 0.175, avg_margin: 4.318\n",
      "\n",
      "{'avg_margin': '4.3197',\n",
      " 'epoch': 11,\n",
      " 'group0_acc': '0.9388',\n",
      " 'group0_margin': '5.4399',\n",
      " 'group1_acc': '0.9285',\n",
      " 'group1_margin': '3.7178',\n",
      " 'group2_acc': '0.9515',\n",
      " 'group2_margin': '4.9369',\n",
      " 'group3_acc': '0.9212',\n",
      " 'group3_margin': '3.1794',\n",
      " 'loss': '0.0642',\n",
      " 'split_acc': '0.9350',\n",
      " 'total_acc': '0.9428'}\n",
      "Validate epoch 10\n"
     ]
    },
    {
     "data": {
      "application/vnd.jupyter.widget-view+json": {
       "model_id": "3fdb3f220c6b4a57bffed4def73e9f43",
       "version_major": 2,
       "version_minor": 0
      },
      "text/plain": [
       "HBox(children=(IntProgress(value=0, max=156), HTML(value='')))"
      ]
     },
     "metadata": {},
     "output_type": "display_data"
    },
    {
     "name": "stdout",
     "output_type": "stream",
     "text": [
      "\n",
      "{'avg_margin': '4.3625',\n",
      " 'epoch': 11,\n",
      " 'group0_acc': '0.8862',\n",
      " 'group0_margin': '5.0449',\n",
      " 'group1_acc': '0.9056',\n",
      " 'group1_margin': '3.6386',\n",
      " 'group2_acc': '0.8796',\n",
      " 'group2_margin': '4.5652',\n",
      " 'group3_acc': '0.7692',\n",
      " 'group3_margin': '2.0715',\n",
      " 'split_acc': '0.8923',\n",
      " 'total_acc': '0.9163'}\n",
      "Train epoch 11\n"
     ]
    },
    {
     "data": {
      "application/vnd.jupyter.widget-view+json": {
       "model_id": "94e03941562e4c52b87179d8a941d849",
       "version_major": 2,
       "version_minor": 0
      },
      "text/plain": [
       "HBox(children=(IntProgress(value=0, max=1272), HTML(value='')))"
      ]
     },
     "metadata": {},
     "output_type": "display_data"
    },
    {
     "name": "stdout",
     "output_type": "stream",
     "text": [
      "[12,   200] loss: 0.181, avg_margin: 4.319\n",
      "[12,   400] loss: 0.173, avg_margin: 4.334\n",
      "[12,   600] loss: 0.177, avg_margin: 4.339\n",
      "[12,   800] loss: 0.174, avg_margin: 4.347\n",
      "[12,  1000] loss: 0.174, avg_margin: 4.352\n",
      "[12,  1200] loss: 0.176, avg_margin: 4.352\n",
      "\n",
      "{'avg_margin': '4.3515',\n",
      " 'epoch': 12,\n",
      " 'group0_acc': '0.9398',\n",
      " 'group0_margin': '5.5099',\n",
      " 'group1_acc': '0.9257',\n",
      " 'group1_margin': '3.6988',\n",
      " 'group2_acc': '0.9521',\n",
      " 'group2_margin': '4.9856',\n",
      " 'group3_acc': '0.9222',\n",
      " 'group3_margin': '3.2114',\n",
      " 'loss': '0.0631',\n",
      " 'split_acc': '0.9349',\n",
      " 'total_acc': '0.9432'}\n",
      "Validate epoch 11\n"
     ]
    },
    {
     "data": {
      "application/vnd.jupyter.widget-view+json": {
       "model_id": "d61b012bbe4449f999879b6e73060975",
       "version_major": 2,
       "version_minor": 0
      },
      "text/plain": [
       "HBox(children=(IntProgress(value=0, max=156), HTML(value='')))"
      ]
     },
     "metadata": {},
     "output_type": "display_data"
    },
    {
     "name": "stdout",
     "output_type": "stream",
     "text": [
      "\n",
      "{'avg_margin': '4.5287',\n",
      " 'epoch': 12,\n",
      " 'group0_acc': '0.8963',\n",
      " 'group0_margin': '5.2836',\n",
      " 'group1_acc': '0.9143',\n",
      " 'group1_margin': '3.8587',\n",
      " 'group2_acc': '0.8671',\n",
      " 'group2_margin': '4.3892',\n",
      " 'group3_acc': '0.7473',\n",
      " 'group3_margin': '1.7993',\n",
      " 'split_acc': '0.8982',\n",
      " 'total_acc': '0.9226'}\n",
      "Train epoch 12\n"
     ]
    },
    {
     "data": {
      "application/vnd.jupyter.widget-view+json": {
       "model_id": "934bf6a60239447d8309b35c6df4da2a",
       "version_major": 2,
       "version_minor": 0
      },
      "text/plain": [
       "HBox(children=(IntProgress(value=0, max=1272), HTML(value='')))"
      ]
     },
     "metadata": {},
     "output_type": "display_data"
    },
    {
     "name": "stdout",
     "output_type": "stream",
     "text": [
      "[13,   200] loss: 0.176, avg_margin: 4.353\n",
      "[13,   400] loss: 0.180, avg_margin: 4.344\n",
      "[13,   600] loss: 0.178, avg_margin: 4.340\n",
      "[13,   800] loss: 0.178, avg_margin: 4.348\n",
      "[13,  1000] loss: 0.179, avg_margin: 4.350\n",
      "[13,  1200] loss: 0.172, avg_margin: 4.354\n",
      "\n",
      "{'avg_margin': '4.3562',\n",
      " 'epoch': 13,\n",
      " 'group0_acc': '0.9391',\n",
      " 'group0_margin': '5.5165',\n",
      " 'group1_acc': '0.9262',\n",
      " 'group1_margin': '3.7193',\n",
      " 'group2_acc': '0.9513',\n",
      " 'group2_margin': '4.9724',\n",
      " 'group3_acc': '0.9214',\n",
      " 'group3_margin': '3.2149',\n",
      " 'loss': '0.0633',\n",
      " 'split_acc': '0.9345',\n",
      " 'total_acc': '0.9427'}\n",
      "Validate epoch 12\n"
     ]
    },
    {
     "data": {
      "application/vnd.jupyter.widget-view+json": {
       "model_id": "a800dd459dfa44268cd640cff7e8a8c5",
       "version_major": 2,
       "version_minor": 0
      },
      "text/plain": [
       "HBox(children=(IntProgress(value=0, max=156), HTML(value='')))"
      ]
     },
     "metadata": {},
     "output_type": "display_data"
    },
    {
     "name": "stdout",
     "output_type": "stream",
     "text": [
      "\n",
      "{'avg_margin': '4.3105',\n",
      " 'epoch': 13,\n",
      " 'group0_acc': '0.8808',\n",
      " 'group0_margin': '4.9283',\n",
      " 'group1_acc': '0.9056',\n",
      " 'group1_margin': '3.6284',\n",
      " 'group2_acc': '0.8827',\n",
      " 'group2_margin': '4.5751',\n",
      " 'group3_acc': '0.8022',\n",
      " 'group3_margin': '2.1849',\n",
      " 'split_acc': '0.8907',\n",
      " 'total_acc': '0.9142'}\n",
      "Train epoch 13\n"
     ]
    },
    {
     "data": {
      "application/vnd.jupyter.widget-view+json": {
       "model_id": "34b19a2f7d3f426481b7cc6c6d451543",
       "version_major": 2,
       "version_minor": 0
      },
      "text/plain": [
       "HBox(children=(IntProgress(value=0, max=1272), HTML(value='')))"
      ]
     },
     "metadata": {},
     "output_type": "display_data"
    },
    {
     "name": "stdout",
     "output_type": "stream",
     "text": [
      "[14,   200] loss: 0.170, avg_margin: 4.381\n",
      "[14,   400] loss: 0.173, avg_margin: 4.391\n",
      "[14,   600] loss: 0.184, avg_margin: 4.384\n",
      "[14,   800] loss: 0.174, avg_margin: 4.386\n",
      "[14,  1000] loss: 0.179, avg_margin: 4.390\n",
      "[14,  1200] loss: 0.175, avg_margin: 4.391\n",
      "\n",
      "{'avg_margin': '4.3896',\n",
      " 'epoch': 14,\n",
      " 'group0_acc': '0.9391',\n",
      " 'group0_margin': '5.5750',\n",
      " 'group1_acc': '0.9261',\n",
      " 'group1_margin': '3.7335',\n",
      " 'group2_acc': '0.9521',\n",
      " 'group2_margin': '5.0160',\n",
      " 'group3_acc': '0.9209',\n",
      " 'group3_margin': '3.2324',\n",
      " 'loss': '0.0624',\n",
      " 'split_acc': '0.9346',\n",
      " 'total_acc': '0.9425'}\n",
      "Validate epoch 13\n"
     ]
    },
    {
     "data": {
      "application/vnd.jupyter.widget-view+json": {
       "model_id": "5fd0e6d9927f4e5eb9516865483f8e85",
       "version_major": 2,
       "version_minor": 0
      },
      "text/plain": [
       "HBox(children=(IntProgress(value=0, max=156), HTML(value='')))"
      ]
     },
     "metadata": {},
     "output_type": "display_data"
    },
    {
     "name": "stdout",
     "output_type": "stream",
     "text": [
      "\n",
      "{'avg_margin': '4.3767',\n",
      " 'epoch': 14,\n",
      " 'group0_acc': '0.8819',\n",
      " 'group0_margin': '4.9593',\n",
      " 'group1_acc': '0.9106',\n",
      " 'group1_margin': '3.7226',\n",
      " 'group2_acc': '0.8866',\n",
      " 'group2_margin': '4.6753',\n",
      " 'group3_acc': '0.7912',\n",
      " 'group3_margin': '2.0881',\n",
      " 'split_acc': '0.8937',\n",
      " 'total_acc': '0.9173'}\n",
      "Train epoch 14\n"
     ]
    },
    {
     "data": {
      "application/vnd.jupyter.widget-view+json": {
       "model_id": "b944976478094f0cac8b9feada426fb7",
       "version_major": 2,
       "version_minor": 0
      },
      "text/plain": [
       "HBox(children=(IntProgress(value=0, max=1272), HTML(value='')))"
      ]
     },
     "metadata": {},
     "output_type": "display_data"
    },
    {
     "name": "stdout",
     "output_type": "stream",
     "text": [
      "[15,   200] loss: 0.178, avg_margin: 4.409\n",
      "[15,   400] loss: 0.178, avg_margin: 4.400\n",
      "[15,   600] loss: 0.177, avg_margin: 4.402\n",
      "[15,   800] loss: 0.171, avg_margin: 4.412\n",
      "[15,  1000] loss: 0.178, avg_margin: 4.411\n",
      "[15,  1200] loss: 0.173, avg_margin: 4.412\n",
      "\n",
      "{'avg_margin': '4.4148',\n",
      " 'epoch': 15,\n",
      " 'group0_acc': '0.9385',\n",
      " 'group0_margin': '5.5799',\n",
      " 'group1_acc': '0.9271',\n",
      " 'group1_margin': '3.7787',\n",
      " 'group2_acc': '0.9519',\n",
      " 'group2_margin': '5.0677',\n",
      " 'group3_acc': '0.9217',\n",
      " 'group3_margin': '3.2212',\n",
      " 'loss': '0.0609',\n",
      " 'split_acc': '0.9348',\n",
      " 'total_acc': '0.9429'}\n",
      "Validate epoch 14\n"
     ]
    },
    {
     "data": {
      "application/vnd.jupyter.widget-view+json": {
       "model_id": "99d05b551aa04469833de3e3617f8be0",
       "version_major": 2,
       "version_minor": 0
      },
      "text/plain": [
       "HBox(children=(IntProgress(value=0, max=156), HTML(value='')))"
      ]
     },
     "metadata": {},
     "output_type": "display_data"
    },
    {
     "name": "stdout",
     "output_type": "stream",
     "text": [
      "\n",
      "{'avg_margin': '4.4111',\n",
      " 'epoch': 15,\n",
      " 'group0_acc': '0.8859',\n",
      " 'group0_margin': '5.1140',\n",
      " 'group1_acc': '0.8993',\n",
      " 'group1_margin': '3.5910',\n",
      " 'group2_acc': '0.8914',\n",
      " 'group2_margin': '4.8310',\n",
      " 'group3_acc': '0.7802',\n",
      " 'group3_margin': '2.1085',\n",
      " 'split_acc': '0.8913',\n",
      " 'total_acc': '0.9150'}\n",
      "Train epoch 15\n"
     ]
    },
    {
     "data": {
      "application/vnd.jupyter.widget-view+json": {
       "model_id": "8571f55d95da400e9dce1795c5d43fa6",
       "version_major": 2,
       "version_minor": 0
      },
      "text/plain": [
       "HBox(children=(IntProgress(value=0, max=1272), HTML(value='')))"
      ]
     },
     "metadata": {},
     "output_type": "display_data"
    },
    {
     "name": "stdout",
     "output_type": "stream",
     "text": [
      "[16,   200] loss: 0.178, avg_margin: 4.414\n",
      "[16,   400] loss: 0.171, avg_margin: 4.429\n",
      "[16,   600] loss: 0.175, avg_margin: 4.429\n",
      "[16,   800] loss: 0.176, avg_margin: 4.421\n",
      "[16,  1000] loss: 0.179, avg_margin: 4.419\n",
      "[16,  1200] loss: 0.175, avg_margin: 4.420\n",
      "\n",
      "{'avg_margin': '4.4213',\n",
      " 'epoch': 16,\n",
      " 'group0_acc': '0.9384',\n",
      " 'group0_margin': '5.6005',\n",
      " 'group1_acc': '0.9259',\n",
      " 'group1_margin': '3.7782',\n",
      " 'group2_acc': '0.9514',\n",
      " 'group2_margin': '5.0522',\n",
      " 'group3_acc': '0.9210',\n",
      " 'group3_margin': '3.2531',\n",
      " 'loss': '0.0629',\n",
      " 'split_acc': '0.9342',\n",
      " 'total_acc': '0.9423'}\n",
      "Validate epoch 15\n"
     ]
    },
    {
     "data": {
      "application/vnd.jupyter.widget-view+json": {
       "model_id": "87d33403e8754449ab271b95d0850675",
       "version_major": 2,
       "version_minor": 0
      },
      "text/plain": [
       "HBox(children=(IntProgress(value=0, max=156), HTML(value='')))"
      ]
     },
     "metadata": {},
     "output_type": "display_data"
    },
    {
     "name": "stdout",
     "output_type": "stream",
     "text": [
      "\n",
      "{'avg_margin': '4.4998',\n",
      " 'epoch': 16,\n",
      " 'group0_acc': '0.8955',\n",
      " 'group0_margin': '5.3839',\n",
      " 'group1_acc': '0.9042',\n",
      " 'group1_margin': '3.6573',\n",
      " 'group2_acc': '0.8713',\n",
      " 'group2_margin': '4.4558',\n",
      " 'group3_acc': '0.7747',\n",
      " 'group3_margin': '2.0405',\n",
      " 'split_acc': '0.8945',\n",
      " 'total_acc': '0.9187'}\n",
      "Train epoch 16\n"
     ]
    },
    {
     "data": {
      "application/vnd.jupyter.widget-view+json": {
       "model_id": "6dbaf63dfe3e4527a5cb6504b74bb82e",
       "version_major": 2,
       "version_minor": 0
      },
      "text/plain": [
       "HBox(children=(IntProgress(value=0, max=1272), HTML(value='')))"
      ]
     },
     "metadata": {},
     "output_type": "display_data"
    },
    {
     "name": "stdout",
     "output_type": "stream",
     "text": [
      "[17,   200] loss: 0.177, avg_margin: 4.420\n",
      "[17,   400] loss: 0.173, avg_margin: 4.424\n",
      "[17,   600] loss: 0.172, avg_margin: 4.432\n",
      "[17,   800] loss: 0.172, avg_margin: 4.433\n",
      "[17,  1000] loss: 0.179, avg_margin: 4.434\n",
      "[17,  1200] loss: 0.172, avg_margin: 4.435\n",
      "\n",
      "{'avg_margin': '4.4354',\n",
      " 'epoch': 17,\n",
      " 'group0_acc': '0.9397',\n",
      " 'group0_margin': '5.6228',\n",
      " 'group1_acc': '0.9278',\n",
      " 'group1_margin': '3.7622',\n",
      " 'group2_acc': '0.9514',\n",
      " 'group2_margin': '5.0789',\n",
      " 'group3_acc': '0.9241',\n",
      " 'group3_margin': '3.2683',\n",
      " 'loss': '0.0625',\n",
      " 'split_acc': '0.9358',\n",
      " 'total_acc': '0.9444'}\n",
      "Validate epoch 16\n"
     ]
    },
    {
     "data": {
      "application/vnd.jupyter.widget-view+json": {
       "model_id": "0ebea969fd2945138eb15c7d5585f61d",
       "version_major": 2,
       "version_minor": 0
      },
      "text/plain": [
       "HBox(children=(IntProgress(value=0, max=156), HTML(value='')))"
      ]
     },
     "metadata": {},
     "output_type": "display_data"
    },
    {
     "name": "stdout",
     "output_type": "stream",
     "text": [
      "\n",
      "{'avg_margin': '4.4471',\n",
      " 'epoch': 17,\n",
      " 'group0_acc': '0.8841',\n",
      " 'group0_margin': '5.0925',\n",
      " 'group1_acc': '0.9070',\n",
      " 'group1_margin': '3.7282',\n",
      " 'group2_acc': '0.8876',\n",
      " 'group2_margin': '4.7528',\n",
      " 'group3_acc': '0.7747',\n",
      " 'group3_margin': '2.0448',\n",
      " 'split_acc': '0.8931',\n",
      " 'total_acc': '0.9171'}\n",
      "Train epoch 17\n"
     ]
    },
    {
     "data": {
      "application/vnd.jupyter.widget-view+json": {
       "model_id": "159eae4550ca46738e91034775fb11f9",
       "version_major": 2,
       "version_minor": 0
      },
      "text/plain": [
       "HBox(children=(IntProgress(value=0, max=1272), HTML(value='')))"
      ]
     },
     "metadata": {},
     "output_type": "display_data"
    },
    {
     "name": "stdout",
     "output_type": "stream",
     "text": [
      "[18,   200] loss: 0.183, avg_margin: 4.422\n",
      "[18,   400] loss: 0.174, avg_margin: 4.433\n",
      "[18,   600] loss: 0.173, avg_margin: 4.442\n",
      "[18,   800] loss: 0.178, avg_margin: 4.438\n",
      "[18,  1000] loss: 0.177, avg_margin: 4.444\n",
      "[18,  1200] loss: 0.176, avg_margin: 4.441\n",
      "\n",
      "{'avg_margin': '4.4414',\n",
      " 'epoch': 18,\n",
      " 'group0_acc': '0.9376',\n",
      " 'group0_margin': '5.6373',\n",
      " 'group1_acc': '0.9279',\n",
      " 'group1_margin': '3.8015',\n",
      " 'group2_acc': '0.9508',\n",
      " 'group2_margin': '5.0807',\n",
      " 'group3_acc': '0.9207',\n",
      " 'group3_margin': '3.2557',\n",
      " 'loss': '0.0645',\n",
      " 'split_acc': '0.9343',\n",
      " 'total_acc': '0.9431'}\n",
      "Validate epoch 17\n"
     ]
    },
    {
     "data": {
      "application/vnd.jupyter.widget-view+json": {
       "model_id": "17f77e2430d64afcb0903c265534e66e",
       "version_major": 2,
       "version_minor": 0
      },
      "text/plain": [
       "HBox(children=(IntProgress(value=0, max=156), HTML(value='')))"
      ]
     },
     "metadata": {},
     "output_type": "display_data"
    },
    {
     "name": "stdout",
     "output_type": "stream",
     "text": [
      "\n",
      "{'avg_margin': '4.4622',\n",
      " 'epoch': 18,\n",
      " 'group0_acc': '0.8830',\n",
      " 'group0_margin': '5.0875',\n",
      " 'group1_acc': '0.9077',\n",
      " 'group1_margin': '3.7639',\n",
      " 'group2_acc': '0.8866',\n",
      " 'group2_margin': '4.7680',\n",
      " 'group3_acc': '0.7692',\n",
      " 'group3_margin': '2.0610',\n",
      " 'split_acc': '0.8927',\n",
      " 'total_acc': '0.9167'}\n",
      "Train epoch 18\n"
     ]
    },
    {
     "data": {
      "application/vnd.jupyter.widget-view+json": {
       "model_id": "f765606debfd45c08c819c391c91525a",
       "version_major": 2,
       "version_minor": 0
      },
      "text/plain": [
       "HBox(children=(IntProgress(value=0, max=1272), HTML(value='')))"
      ]
     },
     "metadata": {},
     "output_type": "display_data"
    },
    {
     "name": "stdout",
     "output_type": "stream",
     "text": [
      "[19,   200] loss: 0.181, avg_margin: 4.425\n",
      "[19,   400] loss: 0.180, avg_margin: 4.427\n",
      "[19,   600] loss: 0.174, avg_margin: 4.434\n",
      "[19,   800] loss: 0.181, avg_margin: 4.429\n",
      "[19,  1000] loss: 0.174, avg_margin: 4.438\n",
      "[19,  1200] loss: 0.175, avg_margin: 4.443\n",
      "\n",
      "{'avg_margin': '4.4419',\n",
      " 'epoch': 19,\n",
      " 'group0_acc': '0.9374',\n",
      " 'group0_margin': '5.6559',\n",
      " 'group1_acc': '0.9270',\n",
      " 'group1_margin': '3.7701',\n",
      " 'group2_acc': '0.9522',\n",
      " 'group2_margin': '5.0931',\n",
      " 'group3_acc': '0.9212',\n",
      " 'group3_margin': '3.2750',\n",
      " 'loss': '0.0650',\n",
      " 'split_acc': '0.9344',\n",
      " 'total_acc': '0.9421'}\n",
      "Validate epoch 18\n"
     ]
    },
    {
     "data": {
      "application/vnd.jupyter.widget-view+json": {
       "model_id": "f0ac0e87747d4bed90a4f485ea5390f0",
       "version_major": 2,
       "version_minor": 0
      },
      "text/plain": [
       "HBox(children=(IntProgress(value=0, max=156), HTML(value='')))"
      ]
     },
     "metadata": {},
     "output_type": "display_data"
    },
    {
     "name": "stdout",
     "output_type": "stream",
     "text": [
      "\n",
      "{'avg_margin': '4.4062',\n",
      " 'epoch': 19,\n",
      " 'group0_acc': '0.8862',\n",
      " 'group0_margin': '5.2014',\n",
      " 'group1_acc': '0.8923',\n",
      " 'group1_margin': '3.4845',\n",
      " 'group2_acc': '0.8911',\n",
      " 'group2_margin': '4.8382',\n",
      " 'group3_acc': '0.8077',\n",
      " 'group3_margin': '2.2088',\n",
      " 'split_acc': '0.8888',\n",
      " 'total_acc': '0.9127'}\n",
      "Train epoch 19\n"
     ]
    },
    {
     "data": {
      "application/vnd.jupyter.widget-view+json": {
       "model_id": "e2aa5a492048429ca3cec81d24fd964a",
       "version_major": 2,
       "version_minor": 0
      },
      "text/plain": [
       "HBox(children=(IntProgress(value=0, max=1272), HTML(value='')))"
      ]
     },
     "metadata": {},
     "output_type": "display_data"
    },
    {
     "name": "stdout",
     "output_type": "stream",
     "text": [
      "[20,   200] loss: 0.172, avg_margin: 4.462\n",
      "[20,   400] loss: 0.172, avg_margin: 4.476\n",
      "[20,   600] loss: 0.175, avg_margin: 4.471\n",
      "[20,   800] loss: 0.176, avg_margin: 4.468\n",
      "[20,  1000] loss: 0.171, avg_margin: 4.471\n",
      "[20,  1200] loss: 0.178, avg_margin: 4.464\n",
      "\n",
      "{'avg_margin': '4.4621',\n",
      " 'epoch': 20,\n",
      " 'group0_acc': '0.9416',\n",
      " 'group0_margin': '5.6703',\n",
      " 'group1_acc': '0.9266',\n",
      " 'group1_margin': '3.7918',\n",
      " 'group2_acc': '0.9520',\n",
      " 'group2_margin': '5.1026',\n",
      " 'group3_acc': '0.9217',\n",
      " 'group3_margin': '3.2807',\n",
      " 'loss': '0.0660',\n",
      " 'split_acc': '0.9355',\n",
      " 'total_acc': '0.9434'}\n",
      "Validate epoch 19\n"
     ]
    },
    {
     "data": {
      "application/vnd.jupyter.widget-view+json": {
       "model_id": "3852596dc89a48b19f581d085ff0a404",
       "version_major": 2,
       "version_minor": 0
      },
      "text/plain": [
       "HBox(children=(IntProgress(value=0, max=156), HTML(value='')))"
      ]
     },
     "metadata": {},
     "output_type": "display_data"
    },
    {
     "name": "stdout",
     "output_type": "stream",
     "text": [
      "\n",
      "{'avg_margin': '4.5688',\n",
      " 'epoch': 20,\n",
      " 'group0_acc': '0.8942',\n",
      " 'group0_margin': '5.4475',\n",
      " 'group1_acc': '0.9060',\n",
      " 'group1_margin': '3.7456',\n",
      " 'group2_acc': '0.8699',\n",
      " 'group2_margin': '4.4852',\n",
      " 'group3_acc': '0.7747',\n",
      " 'group3_margin': '2.1112',\n",
      " 'split_acc': '0.8945',\n",
      " 'total_acc': '0.9187'}\n",
      "Train epoch 20\n"
     ]
    },
    {
     "data": {
      "application/vnd.jupyter.widget-view+json": {
       "model_id": "b7f75a3439d249c9ab00b1c5874a1ca7",
       "version_major": 2,
       "version_minor": 0
      },
      "text/plain": [
       "HBox(children=(IntProgress(value=0, max=1272), HTML(value='')))"
      ]
     },
     "metadata": {},
     "output_type": "display_data"
    },
    {
     "name": "stdout",
     "output_type": "stream",
     "text": [
      "[21,   200] loss: 0.176, avg_margin: 4.464\n",
      "[21,   400] loss: 0.178, avg_margin: 4.467\n",
      "[21,   600] loss: 0.178, avg_margin: 4.466\n",
      "[21,   800] loss: 0.179, avg_margin: 4.466\n",
      "[21,  1000] loss: 0.174, avg_margin: 4.463\n",
      "[21,  1200] loss: 0.174, avg_margin: 4.468\n",
      "\n",
      "{'avg_margin': '4.4677',\n",
      " 'epoch': 21,\n",
      " 'group0_acc': '0.9404',\n",
      " 'group0_margin': '5.7220',\n",
      " 'group1_acc': '0.9271',\n",
      " 'group1_margin': '3.7589',\n",
      " 'group2_acc': '0.9498',\n",
      " 'group2_margin': '5.1061',\n",
      " 'group3_acc': '0.9237',\n",
      " 'group3_margin': '3.2909',\n",
      " 'loss': '0.0615',\n",
      " 'split_acc': '0.9352',\n",
      " 'total_acc': '0.9436'}\n",
      "Validate epoch 20\n"
     ]
    },
    {
     "data": {
      "application/vnd.jupyter.widget-view+json": {
       "model_id": "0251c78d670245c4976e99ffe4e90155",
       "version_major": 2,
       "version_minor": 0
      },
      "text/plain": [
       "HBox(children=(IntProgress(value=0, max=156), HTML(value='')))"
      ]
     },
     "metadata": {},
     "output_type": "display_data"
    },
    {
     "name": "stdout",
     "output_type": "stream",
     "text": [
      "\n",
      "{'avg_margin': '4.4714',\n",
      " 'epoch': 21,\n",
      " 'group0_acc': '0.8894',\n",
      " 'group0_margin': '5.2247',\n",
      " 'group1_acc': '0.9058',\n",
      " 'group1_margin': '3.7011',\n",
      " 'group2_acc': '0.8758',\n",
      " 'group2_margin': '4.6037',\n",
      " 'group3_acc': '0.7747',\n",
      " 'group3_margin': '2.0851',\n",
      " 'split_acc': '0.8932',\n",
      " 'total_acc': '0.9168'}\n",
      "Train epoch 21\n"
     ]
    },
    {
     "data": {
      "application/vnd.jupyter.widget-view+json": {
       "model_id": "d3d44164411a4504bebef4f5262d5ca3",
       "version_major": 2,
       "version_minor": 0
      },
      "text/plain": [
       "HBox(children=(IntProgress(value=0, max=1272), HTML(value='')))"
      ]
     },
     "metadata": {},
     "output_type": "display_data"
    },
    {
     "name": "stdout",
     "output_type": "stream",
     "text": [
      "[22,   200] loss: 0.177, avg_margin: 4.433\n",
      "[22,   400] loss: 0.175, avg_margin: 4.446\n",
      "[22,   600] loss: 0.179, avg_margin: 4.459\n",
      "[22,   800] loss: 0.182, avg_margin: 4.459\n",
      "[22,  1000] loss: 0.172, avg_margin: 4.464\n",
      "[22,  1200] loss: 0.176, avg_margin: 4.462\n",
      "\n",
      "{'avg_margin': '4.4603',\n",
      " 'epoch': 22,\n",
      " 'group0_acc': '0.9391',\n",
      " 'group0_margin': '5.6665',\n",
      " 'group1_acc': '0.9245',\n",
      " 'group1_margin': '3.7954',\n",
      " 'group2_acc': '0.9510',\n",
      " 'group2_margin': '5.0990',\n",
      " 'group3_acc': '0.9237',\n",
      " 'group3_margin': '3.2913',\n",
      " 'loss': '0.0658',\n",
      " 'split_acc': '0.9345',\n",
      " 'total_acc': '0.9427'}\n",
      "Validate epoch 21\n"
     ]
    },
    {
     "data": {
      "application/vnd.jupyter.widget-view+json": {
       "model_id": "ad23cb280b314febbd9e97980ccc625b",
       "version_major": 2,
       "version_minor": 0
      },
      "text/plain": [
       "HBox(children=(IntProgress(value=0, max=156), HTML(value='')))"
      ]
     },
     "metadata": {},
     "output_type": "display_data"
    },
    {
     "name": "stdout",
     "output_type": "stream",
     "text": [
      "\n",
      "{'avg_margin': '4.5209',\n",
      " 'epoch': 22,\n",
      " 'group0_acc': '0.8825',\n",
      " 'group0_margin': '5.1286',\n",
      " 'group1_acc': '0.9143',\n",
      " 'group1_margin': '3.8862',\n",
      " 'group2_acc': '0.8848',\n",
      " 'group2_margin': '4.7008',\n",
      " 'group3_acc': '0.7802',\n",
      " 'group3_margin': '2.0405',\n",
      " 'split_acc': '0.8952',\n",
      " 'total_acc': '0.9189'}\n",
      "Train epoch 22\n"
     ]
    },
    {
     "data": {
      "application/vnd.jupyter.widget-view+json": {
       "model_id": "fad5d08de4464a8180373af2070b43b0",
       "version_major": 2,
       "version_minor": 0
      },
      "text/plain": [
       "HBox(children=(IntProgress(value=0, max=1272), HTML(value='')))"
      ]
     },
     "metadata": {},
     "output_type": "display_data"
    },
    {
     "name": "stdout",
     "output_type": "stream",
     "text": [
      "[23,   200] loss: 0.176, avg_margin: 4.463\n",
      "[23,   400] loss: 0.178, avg_margin: 4.455\n",
      "[23,   600] loss: 0.180, avg_margin: 4.458\n",
      "[23,   800] loss: 0.175, avg_margin: 4.461\n",
      "[23,  1000] loss: 0.168, avg_margin: 4.470\n",
      "[23,  1200] loss: 0.174, avg_margin: 4.471\n",
      "\n",
      "{'avg_margin': '4.4745',\n",
      " 'epoch': 23,\n",
      " 'group0_acc': '0.9405',\n",
      " 'group0_margin': '5.6507',\n",
      " 'group1_acc': '0.9267',\n",
      " 'group1_margin': '3.7983',\n",
      " 'group2_acc': '0.9531',\n",
      " 'group2_margin': '5.1524',\n",
      " 'group3_acc': '0.9220',\n",
      " 'group3_margin': '3.2994',\n",
      " 'loss': '0.0603',\n",
      " 'split_acc': '0.9356',\n",
      " 'total_acc': '0.9438'}\n",
      "Validate epoch 22\n"
     ]
    },
    {
     "data": {
      "application/vnd.jupyter.widget-view+json": {
       "model_id": "d9698aef54c2415dbd46e20e8ff1064a",
       "version_major": 2,
       "version_minor": 0
      },
      "text/plain": [
       "HBox(children=(IntProgress(value=0, max=156), HTML(value='')))"
      ]
     },
     "metadata": {},
     "output_type": "display_data"
    },
    {
     "name": "stdout",
     "output_type": "stream",
     "text": [
      "\n",
      "{'avg_margin': '4.4776',\n",
      " 'epoch': 23,\n",
      " 'group0_acc': '0.8838',\n",
      " 'group0_margin': '5.1639',\n",
      " 'group1_acc': '0.9097',\n",
      " 'group1_margin': '3.7621',\n",
      " 'group2_acc': '0.8817',\n",
      " 'group2_margin': '4.6493',\n",
      " 'group3_acc': '0.7912',\n",
      " 'group3_margin': '2.1138',\n",
      " 'split_acc': '0.8934',\n",
      " 'total_acc': '0.9173'}\n",
      "Train epoch 23\n"
     ]
    },
    {
     "data": {
      "application/vnd.jupyter.widget-view+json": {
       "model_id": "a0ffa45da57947bdadad9357fd59c1fa",
       "version_major": 2,
       "version_minor": 0
      },
      "text/plain": [
       "HBox(children=(IntProgress(value=0, max=1272), HTML(value='')))"
      ]
     },
     "metadata": {},
     "output_type": "display_data"
    },
    {
     "name": "stdout",
     "output_type": "stream",
     "text": [
      "[24,   200] loss: 0.170, avg_margin: 4.503\n",
      "[24,   400] loss: 0.177, avg_margin: 4.484\n",
      "[24,   600] loss: 0.176, avg_margin: 4.489\n",
      "[24,   800] loss: 0.171, avg_margin: 4.494\n",
      "[24,  1000] loss: 0.170, avg_margin: 4.497\n",
      "[24,  1200] loss: 0.174, avg_margin: 4.497\n",
      "\n",
      "{'avg_margin': '4.4964',\n",
      " 'epoch': 24,\n",
      " 'group0_acc': '0.9389',\n",
      " 'group0_margin': '5.7422',\n",
      " 'group1_acc': '0.9297',\n",
      " 'group1_margin': '3.8181',\n",
      " 'group2_acc': '0.9529',\n",
      " 'group2_margin': '5.1346',\n",
      " 'group3_acc': '0.9229',\n",
      " 'group3_margin': '3.2812',\n",
      " 'loss': '0.0634',\n",
      " 'split_acc': '0.9361',\n",
      " 'total_acc': '0.9440'}\n",
      "Validate epoch 23\n"
     ]
    },
    {
     "data": {
      "application/vnd.jupyter.widget-view+json": {
       "model_id": "cda19fb338364f59b9db11bf0200d936",
       "version_major": 2,
       "version_minor": 0
      },
      "text/plain": [
       "HBox(children=(IntProgress(value=0, max=156), HTML(value='')))"
      ]
     },
     "metadata": {},
     "output_type": "display_data"
    },
    {
     "name": "stdout",
     "output_type": "stream",
     "text": [
      "\n",
      "{'avg_margin': '4.5605',\n",
      " 'epoch': 24,\n",
      " 'group0_acc': '0.8890',\n",
      " 'group0_margin': '5.3041',\n",
      " 'group1_acc': '0.9122',\n",
      " 'group1_margin': '3.8280',\n",
      " 'group2_acc': '0.8747',\n",
      " 'group2_margin': '4.6214',\n",
      " 'group3_acc': '0.7692',\n",
      " 'group3_margin': '2.0421',\n",
      " 'split_acc': '0.8955',\n",
      " 'total_acc': '0.9196'}\n",
      "Train epoch 24\n"
     ]
    },
    {
     "data": {
      "application/vnd.jupyter.widget-view+json": {
       "model_id": "d3c676fa05764b3b9decc03a8bbe7617",
       "version_major": 2,
       "version_minor": 0
      },
      "text/plain": [
       "HBox(children=(IntProgress(value=0, max=1272), HTML(value='')))"
      ]
     },
     "metadata": {},
     "output_type": "display_data"
    },
    {
     "name": "stdout",
     "output_type": "stream",
     "text": [
      "[25,   200] loss: 0.166, avg_margin: 4.544\n",
      "[25,   400] loss: 0.174, avg_margin: 4.536\n",
      "[25,   600] loss: 0.178, avg_margin: 4.521\n",
      "[25,   800] loss: 0.177, avg_margin: 4.515\n",
      "[25,  1000] loss: 0.172, avg_margin: 4.516\n",
      "[25,  1200] loss: 0.173, avg_margin: 4.519\n",
      "\n",
      "{'avg_margin': '4.5196',\n",
      " 'epoch': 25,\n",
      " 'group0_acc': '0.9405',\n",
      " 'group0_margin': '5.7445',\n",
      " 'group1_acc': '0.9271',\n",
      " 'group1_margin': '3.8385',\n",
      " 'group2_acc': '0.9536',\n",
      " 'group2_margin': '5.1837',\n",
      " 'group3_acc': '0.9242',\n",
      " 'group3_margin': '3.3095',\n",
      " 'loss': '0.0610',\n",
      " 'split_acc': '0.9364',\n",
      " 'total_acc': '0.9445'}\n",
      "Validate epoch 24\n"
     ]
    },
    {
     "data": {
      "application/vnd.jupyter.widget-view+json": {
       "model_id": "ef1682167611484eb519fdf003e52518",
       "version_major": 2,
       "version_minor": 0
      },
      "text/plain": [
       "HBox(children=(IntProgress(value=0, max=156), HTML(value='')))"
      ]
     },
     "metadata": {},
     "output_type": "display_data"
    },
    {
     "name": "stdout",
     "output_type": "stream",
     "text": [
      "\n",
      "{'avg_margin': '4.6103',\n",
      " 'epoch': 25,\n",
      " 'group0_acc': '0.8909',\n",
      " 'group0_margin': '5.3639',\n",
      " 'group1_acc': '0.9142',\n",
      " 'group1_margin': '3.9133',\n",
      " 'group2_acc': '0.8716',\n",
      " 'group2_margin': '4.5473',\n",
      " 'group3_acc': '0.7637',\n",
      " 'group3_margin': '1.9607',\n",
      " 'split_acc': '0.8967',\n",
      " 'total_acc': '0.9208'}\n"
     ]
    }
   ],
   "source": [
    "for epoch in range(args.n_epochs):\n",
    "    # train\n",
    "    print(f'Train epoch {epoch}')\n",
    "    run_epoch(epoch+1, model, device, optimizer, train_loader, criterion, train_writer, is_training=True)\n",
    "    \n",
    "    # validate\n",
    "    print(f'Validate epoch {epoch}')\n",
    "    run_epoch(epoch+1, model, device, optimizer, val_loader, criterion, val_writer, is_training=False)\n",
    "    "
   ]
  },
  {
   "cell_type": "code",
   "execution_count": null,
   "id": "7e00abfa",
   "metadata": {},
   "outputs": [],
   "source": []
  }
 ],
 "metadata": {
  "kernelspec": {
   "display_name": "Python 3",
   "language": "python",
   "name": "python3"
  },
  "language_info": {
   "codemirror_mode": {
    "name": "ipython",
    "version": 3
   },
   "file_extension": ".py",
   "mimetype": "text/x-python",
   "name": "python",
   "nbconvert_exporter": "python",
   "pygments_lexer": "ipython3",
   "version": "3.6.8"
  },
  "varInspector": {
   "cols": {
    "lenName": 16,
    "lenType": 16,
    "lenVar": 40
   },
   "kernels_config": {
    "python": {
     "delete_cmd_postfix": "",
     "delete_cmd_prefix": "del ",
     "library": "var_list.py",
     "varRefreshCmd": "print(var_dic_list())"
    },
    "r": {
     "delete_cmd_postfix": ") ",
     "delete_cmd_prefix": "rm(",
     "library": "var_list.r",
     "varRefreshCmd": "cat(var_dic_list()) "
    }
   },
   "position": {
    "height": "708.85px",
    "left": "5.10001px",
    "right": "20px",
    "top": "127px",
    "width": "362.1px"
   },
   "types_to_exclude": [
    "module",
    "function",
    "builtin_function_or_method",
    "instance",
    "_Feature"
   ],
   "window_display": false
  }
 },
 "nbformat": 4,
 "nbformat_minor": 5
}
